{
 "cells": [
  {
   "cell_type": "markdown",
   "metadata": {},
   "source": [
    "# Capao Urban Rate\n",
    "\n",
    "This notebook aims to estimate the current urban growth rate for the place: Vale do Capão, Palmeiras, BA, Brasil. By using Google Earth satellite images and analyzing RGB pixel data, we can determine the growth rate in areas featuring houses, roads, construction sites, or where forests have been cleared for humans uses. For this case study, we have chosen COPERNICUS satellite images."
   ]
  },
  {
   "cell_type": "code",
   "execution_count": null,
   "metadata": {},
   "outputs": [],
   "source": [
    "import ee\n",
    "import geemap as geemap\n",
    "import pandas as pd\n",
    "import sklearn as sk\n",
    "import numpy as np\n",
    "import matplotlib.pyplot as plt\n",
    "\n",
    "from utils.contants import PROJECT\n",
    "from sklearn.decomposition import PCA\n",
    "from sklearn.preprocessing import MinMaxScaler\n",
    "from sklearn.cluster import KMeans\n",
    "from sklearn.ensemble import RandomForestClassifier\n",
    "from sklearn.model_selection import train_test_split\n",
    "from sklearn import metrics\n",
    "\n",
    "\n",
    "ee.Authenticate()\n",
    "ee.Initialize(project=PROJECT)\n",
    "geemap.ee_initialize()\n",
    "\n",
    "geo_point = ee.Geometry.Point([-41.501150593949305,-12.609558240448216])\n",
    "\n",
    "image = (\n",
    "  ee.ImageCollection(\"COPERNICUS/S2_SR_HARMONIZED\")\n",
    "    .filterBounds(geo_point)\n",
    "    .filterDate('2023-01-01', '2023-12-01')\n",
    "    .sort('CLOUDY_PIXEL_PERCENTAGE')\n",
    "    .first()\n",
    ")\n",
    "# B2 - Blue | B3 - Green |  B4 - Red\n",
    "bands = ['B2', 'B3', 'B4']"
   ]
  },
  {
   "cell_type": "markdown",
   "metadata": {},
   "source": [
    "# Map view"
   ]
  },
  {
   "cell_type": "code",
   "execution_count": null,
   "metadata": {},
   "outputs": [],
   "source": [
    "map = geemap.Map(center=[-12.609558240448216,-41.501150593949305], zoom=15)\n",
    "# Adjust this value to increase or decrease the contrast\n",
    "gamma = 3.5  \n",
    "map.add_layer(\n",
    "  image,  \n",
    "  {\"bands\": bands,  min: 0, max: 2000, \"gamma\": gamma},\n",
    "  \"true colors\"\n",
    ")\n",
    "# Display the map\n",
    "map"
   ]
  },
  {
   "cell_type": "markdown",
   "metadata": {},
   "source": [
    "# Pre processing"
   ]
  },
  {
   "cell_type": "code",
   "execution_count": 38,
   "metadata": {},
   "outputs": [
    {
     "data": {
      "text/html": [
       "\n",
       "            <style>\n",
       "                .geemap-dark {\n",
       "                    --jp-widgets-color: white;\n",
       "                    --jp-widgets-label-color: white;\n",
       "                    --jp-ui-font-color1: white;\n",
       "                    --jp-layout-color2: #454545;\n",
       "                    background-color: #383838;\n",
       "                }\n",
       "\n",
       "                .geemap-dark .jupyter-button {\n",
       "                    --jp-layout-color3: #383838;\n",
       "                }\n",
       "\n",
       "                .geemap-colab {\n",
       "                    background-color: var(--colab-primary-surface-color, white);\n",
       "                }\n",
       "\n",
       "                .geemap-colab .jupyter-button {\n",
       "                    --jp-layout-color3: var(--colab-primary-surface-color, white);\n",
       "                }\n",
       "            </style>\n",
       "            "
      ],
      "text/plain": [
       "<IPython.core.display.HTML object>"
      ]
     },
     "metadata": {},
     "output_type": "display_data"
    },
    {
     "name": "stderr",
     "output_type": "stream",
     "text": [
      "/tmp/ipykernel_72191/234733776.py:8: FutureWarning: Downcasting behavior in `replace` is deprecated and will be removed in a future version. To retain the old behavior, explicitly call `result.infer_objects(copy=False)`. To opt-in to the future behavior, set `pd.set_option('future.no_silent_downcasting', True)`\n",
      "  dataset = dataset.replace(regex=r'2_\\d+_\\d+', value=1) # Urban Class 1\n"
     ]
    },
    {
     "data": {
      "text/html": [
       "<div>\n",
       "<style scoped>\n",
       "    .dataframe tbody tr th:only-of-type {\n",
       "        vertical-align: middle;\n",
       "    }\n",
       "\n",
       "    .dataframe tbody tr th {\n",
       "        vertical-align: top;\n",
       "    }\n",
       "\n",
       "    .dataframe thead th {\n",
       "        text-align: right;\n",
       "    }\n",
       "</style>\n",
       "<table border=\"1\" class=\"dataframe\">\n",
       "  <thead>\n",
       "    <tr style=\"text-align: right;\">\n",
       "      <th></th>\n",
       "      <th>class</th>\n",
       "      <th>B2</th>\n",
       "      <th>B3</th>\n",
       "      <th>B4</th>\n",
       "      <th>B5</th>\n",
       "      <th>B6</th>\n",
       "      <th>B7</th>\n",
       "    </tr>\n",
       "  </thead>\n",
       "  <tbody>\n",
       "    <tr>\n",
       "      <th>110</th>\n",
       "      <td>0</td>\n",
       "      <td>745</td>\n",
       "      <td>1210</td>\n",
       "      <td>1590</td>\n",
       "      <td>1922</td>\n",
       "      <td>3184</td>\n",
       "      <td>3502</td>\n",
       "    </tr>\n",
       "    <tr>\n",
       "      <th>111</th>\n",
       "      <td>0</td>\n",
       "      <td>550</td>\n",
       "      <td>1032</td>\n",
       "      <td>1394</td>\n",
       "      <td>1525</td>\n",
       "      <td>3280</td>\n",
       "      <td>3836</td>\n",
       "    </tr>\n",
       "    <tr>\n",
       "      <th>112</th>\n",
       "      <td>0</td>\n",
       "      <td>621</td>\n",
       "      <td>1088</td>\n",
       "      <td>1508</td>\n",
       "      <td>1586</td>\n",
       "      <td>3061</td>\n",
       "      <td>3449</td>\n",
       "    </tr>\n",
       "    <tr>\n",
       "      <th>113</th>\n",
       "      <td>0</td>\n",
       "      <td>1160</td>\n",
       "      <td>1634</td>\n",
       "      <td>2504</td>\n",
       "      <td>2228</td>\n",
       "      <td>3436</td>\n",
       "      <td>3679</td>\n",
       "    </tr>\n",
       "    <tr>\n",
       "      <th>114</th>\n",
       "      <td>0</td>\n",
       "      <td>570</td>\n",
       "      <td>786</td>\n",
       "      <td>1068</td>\n",
       "      <td>1307</td>\n",
       "      <td>2606</td>\n",
       "      <td>3229</td>\n",
       "    </tr>\n",
       "    <tr>\n",
       "      <th>115</th>\n",
       "      <td>0</td>\n",
       "      <td>708</td>\n",
       "      <td>1104</td>\n",
       "      <td>804</td>\n",
       "      <td>1459</td>\n",
       "      <td>3104</td>\n",
       "      <td>3514</td>\n",
       "    </tr>\n",
       "    <tr>\n",
       "      <th>116</th>\n",
       "      <td>0</td>\n",
       "      <td>2974</td>\n",
       "      <td>3564</td>\n",
       "      <td>3600</td>\n",
       "      <td>2055</td>\n",
       "      <td>3332</td>\n",
       "      <td>3729</td>\n",
       "    </tr>\n",
       "    <tr>\n",
       "      <th>117</th>\n",
       "      <td>0</td>\n",
       "      <td>650</td>\n",
       "      <td>1050</td>\n",
       "      <td>1274</td>\n",
       "      <td>1478</td>\n",
       "      <td>3275</td>\n",
       "      <td>3784</td>\n",
       "    </tr>\n",
       "    <tr>\n",
       "      <th>118</th>\n",
       "      <td>0</td>\n",
       "      <td>1650</td>\n",
       "      <td>1926</td>\n",
       "      <td>2558</td>\n",
       "      <td>2655</td>\n",
       "      <td>3193</td>\n",
       "      <td>3336</td>\n",
       "    </tr>\n",
       "    <tr>\n",
       "      <th>119</th>\n",
       "      <td>0</td>\n",
       "      <td>941</td>\n",
       "      <td>1300</td>\n",
       "      <td>2144</td>\n",
       "      <td>2459</td>\n",
       "      <td>3239</td>\n",
       "      <td>3500</td>\n",
       "    </tr>\n",
       "    <tr>\n",
       "      <th>120</th>\n",
       "      <td>1</td>\n",
       "      <td>453</td>\n",
       "      <td>874</td>\n",
       "      <td>624</td>\n",
       "      <td>1473</td>\n",
       "      <td>2881</td>\n",
       "      <td>3385</td>\n",
       "    </tr>\n",
       "    <tr>\n",
       "      <th>121</th>\n",
       "      <td>1</td>\n",
       "      <td>349</td>\n",
       "      <td>630</td>\n",
       "      <td>464</td>\n",
       "      <td>1351</td>\n",
       "      <td>2655</td>\n",
       "      <td>3019</td>\n",
       "    </tr>\n",
       "    <tr>\n",
       "      <th>122</th>\n",
       "      <td>1</td>\n",
       "      <td>310</td>\n",
       "      <td>623</td>\n",
       "      <td>429</td>\n",
       "      <td>1203</td>\n",
       "      <td>2631</td>\n",
       "      <td>3030</td>\n",
       "    </tr>\n",
       "    <tr>\n",
       "      <th>123</th>\n",
       "      <td>1</td>\n",
       "      <td>277</td>\n",
       "      <td>576</td>\n",
       "      <td>319</td>\n",
       "      <td>1034</td>\n",
       "      <td>3058</td>\n",
       "      <td>3580</td>\n",
       "    </tr>\n",
       "    <tr>\n",
       "      <th>124</th>\n",
       "      <td>1</td>\n",
       "      <td>364</td>\n",
       "      <td>684</td>\n",
       "      <td>487</td>\n",
       "      <td>1239</td>\n",
       "      <td>2892</td>\n",
       "      <td>3522</td>\n",
       "    </tr>\n",
       "    <tr>\n",
       "      <th>125</th>\n",
       "      <td>1</td>\n",
       "      <td>292</td>\n",
       "      <td>586</td>\n",
       "      <td>382</td>\n",
       "      <td>996</td>\n",
       "      <td>2727</td>\n",
       "      <td>3139</td>\n",
       "    </tr>\n",
       "    <tr>\n",
       "      <th>126</th>\n",
       "      <td>1</td>\n",
       "      <td>423</td>\n",
       "      <td>988</td>\n",
       "      <td>539</td>\n",
       "      <td>1685</td>\n",
       "      <td>3608</td>\n",
       "      <td>3979</td>\n",
       "    </tr>\n",
       "    <tr>\n",
       "      <th>127</th>\n",
       "      <td>1</td>\n",
       "      <td>446</td>\n",
       "      <td>1038</td>\n",
       "      <td>506</td>\n",
       "      <td>1495</td>\n",
       "      <td>3308</td>\n",
       "      <td>3614</td>\n",
       "    </tr>\n",
       "    <tr>\n",
       "      <th>128</th>\n",
       "      <td>1</td>\n",
       "      <td>224</td>\n",
       "      <td>491</td>\n",
       "      <td>241</td>\n",
       "      <td>866</td>\n",
       "      <td>2953</td>\n",
       "      <td>3470</td>\n",
       "    </tr>\n",
       "    <tr>\n",
       "      <th>129</th>\n",
       "      <td>1</td>\n",
       "      <td>229</td>\n",
       "      <td>449</td>\n",
       "      <td>230</td>\n",
       "      <td>798</td>\n",
       "      <td>2761</td>\n",
       "      <td>3429</td>\n",
       "    </tr>\n",
       "  </tbody>\n",
       "</table>\n",
       "</div>"
      ],
      "text/plain": [
       "     class    B2    B3    B4    B5    B6    B7\n",
       "110      0   745  1210  1590  1922  3184  3502\n",
       "111      0   550  1032  1394  1525  3280  3836\n",
       "112      0   621  1088  1508  1586  3061  3449\n",
       "113      0  1160  1634  2504  2228  3436  3679\n",
       "114      0   570   786  1068  1307  2606  3229\n",
       "115      0   708  1104   804  1459  3104  3514\n",
       "116      0  2974  3564  3600  2055  3332  3729\n",
       "117      0   650  1050  1274  1478  3275  3784\n",
       "118      0  1650  1926  2558  2655  3193  3336\n",
       "119      0   941  1300  2144  2459  3239  3500\n",
       "120      1   453   874   624  1473  2881  3385\n",
       "121      1   349   630   464  1351  2655  3019\n",
       "122      1   310   623   429  1203  2631  3030\n",
       "123      1   277   576   319  1034  3058  3580\n",
       "124      1   364   684   487  1239  2892  3522\n",
       "125      1   292   586   382   996  2727  3139\n",
       "126      1   423   988   539  1685  3608  3979\n",
       "127      1   446  1038   506  1495  3308  3614\n",
       "128      1   224   491   241   866  2953  3470\n",
       "129      1   229   449   230   798  2761  3429"
      ]
     },
     "execution_count": 38,
     "metadata": {},
     "output_type": "execute_result"
    }
   ],
   "source": [
    "# df = pd.read_csv('./data/dataset_bands_3.csv')\n",
    "df = pd.read_csv('./data/dataset_bands_6.csv')\n",
    "\n",
    "# dataset = df[['system:index', 'B2', 'B3', 'B4']].copy()\n",
    "dataset = df[['system:index', 'B2', 'B3', 'B4', 'B5', 'B6', 'B7']].copy()\n",
    "\n",
    "dataset = dataset.replace(regex=r'1_\\d+_\\d+', value=0) # Urban Class 0\n",
    "dataset = dataset.replace(regex=r'2_\\d+_\\d+', value=1) # Urban Class 1\n",
    "dataset.rename(columns={'system:index': 'class'}, inplace=True)\n",
    "dataset[110:130]\n"
   ]
  },
  {
   "cell_type": "markdown",
   "metadata": {},
   "source": [
    "## Data Clusters"
   ]
  },
  {
   "cell_type": "code",
   "execution_count": 39,
   "metadata": {},
   "outputs": [
    {
     "data": {
      "text/html": [
       "\n",
       "            <style>\n",
       "                .geemap-dark {\n",
       "                    --jp-widgets-color: white;\n",
       "                    --jp-widgets-label-color: white;\n",
       "                    --jp-ui-font-color1: white;\n",
       "                    --jp-layout-color2: #454545;\n",
       "                    background-color: #383838;\n",
       "                }\n",
       "\n",
       "                .geemap-dark .jupyter-button {\n",
       "                    --jp-layout-color3: #383838;\n",
       "                }\n",
       "\n",
       "                .geemap-colab {\n",
       "                    background-color: var(--colab-primary-surface-color, white);\n",
       "                }\n",
       "\n",
       "                .geemap-colab .jupyter-button {\n",
       "                    --jp-layout-color3: var(--colab-primary-surface-color, white);\n",
       "                }\n",
       "            </style>\n",
       "            "
      ],
      "text/plain": [
       "<IPython.core.display.HTML object>"
      ]
     },
     "metadata": {},
     "output_type": "display_data"
    },
    {
     "data": {
      "image/png": "[encoded data removed]",
      "text/plain": [
       "<Figure size 640x480 with 1 Axes>"
      ]
     },
     "metadata": {},
     "output_type": "display_data"
    }
   ],
   "source": [
    "# Normalizing the data to be in the range (0, 1)\n",
    "scaler = MinMaxScaler()\n",
    "dataset_normalized = scaler.fit_transform(dataset)\n",
    "\n",
    "# PCA to reduce dimensions from 3 to 2\n",
    "pca = PCA(n_components=2)\n",
    "data_reduced = pca.fit_transform(dataset_normalized)\n",
    "\n",
    "# K-means clustering\n",
    "kmeans = KMeans(n_clusters=2)\n",
    "clusters = kmeans.fit_predict(data_reduced)\n",
    "\n",
    "# Visualize clusters\n",
    "plt.scatter(data_reduced[:, 0], data_reduced[:, 1], c=clusters, cmap='viridis', marker='o')\n",
    "plt.xlabel('Principal Component 1')\n",
    "plt.ylabel('Principal Component 2')\n",
    "plt.title('Clustered Data in 2D')\n",
    "plt.show()"
   ]
  },
  {
   "cell_type": "markdown",
   "metadata": {},
   "source": [
    "## Data Analysis"
   ]
  },
  {
   "cell_type": "code",
   "execution_count": 40,
   "metadata": {},
   "outputs": [
    {
     "data": {
      "text/html": [
       "\n",
       "            <style>\n",
       "                .geemap-dark {\n",
       "                    --jp-widgets-color: white;\n",
       "                    --jp-widgets-label-color: white;\n",
       "                    --jp-ui-font-color1: white;\n",
       "                    --jp-layout-color2: #454545;\n",
       "                    background-color: #383838;\n",
       "                }\n",
       "\n",
       "                .geemap-dark .jupyter-button {\n",
       "                    --jp-layout-color3: #383838;\n",
       "                }\n",
       "\n",
       "                .geemap-colab {\n",
       "                    background-color: var(--colab-primary-surface-color, white);\n",
       "                }\n",
       "\n",
       "                .geemap-colab .jupyter-button {\n",
       "                    --jp-layout-color3: var(--colab-primary-surface-color, white);\n",
       "                }\n",
       "            </style>\n",
       "            "
      ],
      "text/plain": [
       "<IPython.core.display.HTML object>"
      ]
     },
     "metadata": {},
     "output_type": "display_data"
    },
    {
     "data": {
      "image/png": "[encoded data removed]",
      "text/plain": [
       "<Figure size 1200x800 with 1 Axes>"
      ]
     },
     "metadata": {},
     "output_type": "display_data"
    },
    {
     "name": "stdout",
     "output_type": "stream",
     "text": [
      "Indices of outlier data points: [  9  11  31  38  41  44  47  62  76  88  90  97 106 116 118 163 178 195\n",
      " 207 216 217 218] 9.167%\n"
     ]
    }
   ],
   "source": [
    "\n",
    "# Set the outlier threshold\n",
    "Q1 = np.percentile(dataset_normalized, 25, axis=0)\n",
    "Q3 = np.percentile(dataset_normalized, 75, axis=0)\n",
    "IQR = Q3 - Q1\n",
    "step = 1.5 * IQR\n",
    "\n",
    "# Check for outliers\n",
    "outliers = (dataset_normalized < (Q1 - step)) | (dataset_normalized > (Q3 + step))\n",
    "outliers_row = np.any(outliers, axis=1)\n",
    "outlier_indices = np.where(outliers_row)\n",
    "\n",
    "# Calculate the percentage of outliers\n",
    "outlier_count = np.sum(outliers_row)\n",
    "total_points = dataset_normalized.shape[0]\n",
    "outlier_percentage = f'{round((outlier_count / total_points) * 100, 3)}%'\n",
    "\n",
    "# Plot the results\n",
    "plt.figure(figsize=(12, 8))\n",
    "colors = ['red' if i in outlier_indices[0] else 'blue' for i in range(dataset_normalized.shape[0])]\n",
    "plt.scatter(dataset_normalized[:, 0], dataset_normalized[:, 1], c=colors, alpha=0.5)\n",
    "plt.xlabel('Normalized Red')\n",
    "plt.ylabel('Normalized Green')\n",
    "plt.title('Outliers in Normalized RGB Data (Red vs. Green)')\n",
    "plt.grid(True)\n",
    "plt.show()\n",
    "\n",
    "# Print indices of outliers\n",
    "print(\"Indices of outlier data points:\", outlier_indices[0], outlier_percentage)\n"
   ]
  },
  {
   "cell_type": "markdown",
   "metadata": {},
   "source": [
    "# Modeling Random Forest"
   ]
  },
  {
   "cell_type": "code",
   "execution_count": 41,
   "metadata": {},
   "outputs": [
    {
     "data": {
      "text/html": [
       "\n",
       "            <style>\n",
       "                .geemap-dark {\n",
       "                    --jp-widgets-color: white;\n",
       "                    --jp-widgets-label-color: white;\n",
       "                    --jp-ui-font-color1: white;\n",
       "                    --jp-layout-color2: #454545;\n",
       "                    background-color: #383838;\n",
       "                }\n",
       "\n",
       "                .geemap-dark .jupyter-button {\n",
       "                    --jp-layout-color3: #383838;\n",
       "                }\n",
       "\n",
       "                .geemap-colab {\n",
       "                    background-color: var(--colab-primary-surface-color, white);\n",
       "                }\n",
       "\n",
       "                .geemap-colab .jupyter-button {\n",
       "                    --jp-layout-color3: var(--colab-primary-surface-color, white);\n",
       "                }\n",
       "            </style>\n",
       "            "
      ],
      "text/plain": [
       "<IPython.core.display.HTML object>"
      ]
     },
     "metadata": {},
     "output_type": "display_data"
    },
    {
     "name": "stdout",
     "output_type": "stream",
     "text": [
      "Accuracy: 1.0\n",
      "Prectats import hmeanision: 1.0\n",
      "Recall: 1.0\n",
      "F1 Score: 1.0\n"
     ]
    }
   ],
   "source": [
    "# Clean dataset from outliers\n",
    "dataset_cleaned = dataset[~outliers_row]\n",
    "\n",
    "# Set the outlier threshold for 3 bands\n",
    "# features = dataset[['B2', 'B3', 'B4']]\n",
    "# label = dataset['class']\n",
    "\n",
    "# Set the outlier threshold for 6 bands\n",
    "features = dataset[['B2', 'B3', 'B4', 'B5', 'B6', 'B7']]\n",
    "label = dataset['class']\n",
    "\n",
    "# features = dataset_cleaned[['B2', 'B3', 'B4']]\n",
    "# label = dataset_cleaned['class']\n",
    "\n",
    "X_train, X_test, y_train, y_test = train_test_split(\n",
    "    features, label, test_size=0.2, random_state=42\n",
    ")\n",
    "\n",
    "clf = RandomForestClassifier()\n",
    "clf.fit(X_train, y_train)\n",
    "y_pred = clf.predict(X_test)\n",
    "\n",
    "# Model Accuracy\n",
    "print(\"Accuracy:\", sk.metrics.accuracy_score(y_test, y_pred))\n",
    "\n",
    "# Model Precision\n",
    "print(\"Prectats import hmeanision:\", sk.metrics.precision_score(y_test, y_pred, average='macro'))\n",
    "\n",
    "# Model Recall\n",
    "print(\"Recall:\", sk.metrics.recall_score(y_test, y_pred, average='macro'))\n",
    "\n",
    "# Model F1 Score\n",
    "print(\"F1 Score:\", sk.metrics.f1_score(y_test, y_pred, average='macro'))"
   ]
  },
  {
   "cell_type": "markdown",
   "metadata": {},
   "source": [
    "## Cofunsion Matrix"
   ]
  },
  {
   "cell_type": "code",
   "execution_count": 42,
   "metadata": {},
   "outputs": [
    {
     "data": {
      "text/html": [
       "\n",
       "            <style>\n",
       "                .geemap-dark {\n",
       "                    --jp-widgets-color: white;\n",
       "                    --jp-widgets-label-color: white;\n",
       "                    --jp-ui-font-color1: white;\n",
       "                    --jp-layout-color2: #454545;\n",
       "                    background-color: #383838;\n",
       "                }\n",
       "\n",
       "                .geemap-dark .jupyter-button {\n",
       "                    --jp-layout-color3: #383838;\n",
       "                }\n",
       "\n",
       "                .geemap-colab {\n",
       "                    background-color: var(--colab-primary-surface-color, white);\n",
       "                }\n",
       "\n",
       "                .geemap-colab .jupyter-button {\n",
       "                    --jp-layout-color3: var(--colab-primary-surface-color, white);\n",
       "                }\n",
       "            </style>\n",
       "            "
      ],
      "text/plain": [
       "<IPython.core.display.HTML object>"
      ]
     },
     "metadata": {},
     "output_type": "display_data"
    },
    {
     "data": {
      "image/png": "[encoded data removed]",
      "text/plain": [
       "<Figure size 1000x700 with 2 Axes>"
      ]
     },
     "metadata": {},
     "output_type": "display_data"
    }
   ],
   "source": [
    "from matplotlib import pyplot as plt\n",
    "\n",
    "disp = sk.metrics.confusion_matrix(y_test, y_pred, labels=[0, 1])\n",
    "plt.figure(figsize=(10, 7))\n",
    "plt.imshow(disp, interpolation='nearest', cmap=plt.cm.Blues)\n",
    "plt.title('Confusion matrix')\n",
    "plt.colorbar()\n",
    "\n",
    "\n",
    "classes = [0, 1] \n",
    "tick_marks = np.arange(len(classes))\n",
    "\n",
    "plt.xticks(tick_marks, classes)\n",
    "plt.yticks(tick_marks, classes)\n",
    "\n",
    "plt.ylabel('True label')\n",
    "plt.xlabel('Predicted label')\n",
    "\n",
    "for i in range(disp.shape[0]):\n",
    "    for j in range(disp.shape[1]):\n",
    "        plt.text(j, i, disp[i, j],\n",
    "                 horizontalalignment=\"center\",\n",
    "                 color=\"white\" if disp[i, j] > disp.max() / 2. else \"black\")\n",
    "\n",
    "\n",
    "plt.show()"
   ]
  }
 ],
 "metadata": {
  "kernelspec": {
   "display_name": "capao-urban-rate-3l7dZDhn-py3.12",
   "language": "python",
   "name": "python3"
  },
  "language_info": {
   "codemirror_mode": {
    "name": "ipython",
    "version": 3
   },
   "file_extension": ".py",
   "mimetype": "text/x-python",
   "name": "python",
   "nbconvert_exporter": "python",
   "pygments_lexer": "ipython3",
   "version": "3.11.5"
  }
 },
 "nbformat": 4,
 "nbformat_minor": 2
}
