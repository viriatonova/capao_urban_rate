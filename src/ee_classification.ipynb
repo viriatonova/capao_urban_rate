{
 "cells": [
  {
   "cell_type": "markdown",
   "metadata": {},
   "source": [
    "# Capao Urban Rate\n",
    "\n",
    "This notebook aims to estimate the current urban growth rate for the place: Vale do Capão, Palmeiras, BA, Brasil. By using Google Earth satellite images and analyzing RGB pixel data, we can determine the growth rate in areas featuring houses, roads, construction sites, or where forests have been cleared for humans uses. For this case study, we have chosen COPERNICUS satellite images."
   ]
  },
  {
   "cell_type": "code",
   "execution_count": 1,
   "metadata": {},
   "outputs": [],
   "source": [
    "import ee\n",
    "import geemap as geemap\n",
    "import pandas as pd\n",
    "\n",
    "from utils.features import get_coordinates\n",
    "from utils.contants import (\n",
    "  PROJECT, \n",
    "  GEO_POINT,\n",
    "  GEO_PLACE,\n",
    "  BANDS_COPERNICUS,\n",
    "  BANDS_LANDSET_7,\n",
    ")\n",
    "\n",
    "ee.Authenticate()\n",
    "ee.Initialize(project=PROJECT)\n",
    "geemap.ee_initialize()"
   ]
  },
  {
   "cell_type": "markdown",
   "metadata": {},
   "source": [
    "# Feature Colletion "
   ]
  },
  {
   "cell_type": "code",
   "execution_count": 2,
   "metadata": {},
   "outputs": [
    {
     "data": {
      "text/html": [
       "\n",
       "            <style>\n",
       "                .geemap-dark {\n",
       "                    --jp-widgets-color: white;\n",
       "                    --jp-widgets-label-color: white;\n",
       "                    --jp-ui-font-color1: white;\n",
       "                    --jp-layout-color2: #454545;\n",
       "                    background-color: #383838;\n",
       "                }\n",
       "\n",
       "                .geemap-dark .jupyter-button {\n",
       "                    --jp-layout-color3: #383838;\n",
       "                }\n",
       "\n",
       "                .geemap-colab {\n",
       "                    background-color: var(--colab-primary-surface-color, white);\n",
       "                }\n",
       "\n",
       "                .geemap-colab .jupyter-button {\n",
       "                    --jp-layout-color3: var(--colab-primary-surface-color, white);\n",
       "                }\n",
       "            </style>\n",
       "            "
      ],
      "text/plain": [
       "<IPython.core.display.HTML object>"
      ]
     },
     "metadata": {},
     "output_type": "display_data"
    }
   ],
   "source": [
    "# Pre process urban features\n",
    "df = pd.read_csv('./data/urban_features.csv')\n",
    "raw_urban = df['.geo'].tolist()\n",
    "urban = [get_coordinates(i) for i in raw_urban]\n",
    "\n",
    "urban_features_list = [\n",
    "  ee.Feature(ee.Geometry.Point(urban[i][0], urban[i][1]), {'class': 1 }) for i in range(len(urban))\n",
    "]\n",
    "\n",
    "# Pre process vegetation features\n",
    "df = pd.read_csv('./data/vegetation_feature.csv')\n",
    "raw_vegetation = df['.geo'].tolist()\n",
    "vegetation = [get_coordinates(i) for i in raw_vegetation]\n",
    "\n",
    "vegetation_features_list = [\n",
    "  ee.Feature(ee.Geometry.Point(vegetation[i][0], vegetation[i][1]), {'class': 0 }) for i in range(len(vegetation))\n",
    "]\n",
    "\n",
    "# Feature collections\n",
    "urban_features = ee.FeatureCollection(urban_features_list, 'urban')\n",
    "vegetation_features = ee.FeatureCollection(vegetation_features_list, 'vegetation')\n",
    "\n",
    "feature = urban_features.merge(vegetation_features)\n",
    "\n",
    "# feature.getInfo()"
   ]
  },
  {
   "cell_type": "markdown",
   "metadata": {},
   "source": [
    "# Dataset"
   ]
  },
  {
   "cell_type": "code",
   "execution_count": 3,
   "metadata": {},
   "outputs": [
    {
     "data": {
      "text/html": [
       "\n",
       "            <style>\n",
       "                .geemap-dark {\n",
       "                    --jp-widgets-color: white;\n",
       "                    --jp-widgets-label-color: white;\n",
       "                    --jp-ui-font-color1: white;\n",
       "                    --jp-layout-color2: #454545;\n",
       "                    background-color: #383838;\n",
       "                }\n",
       "\n",
       "                .geemap-dark .jupyter-button {\n",
       "                    --jp-layout-color3: #383838;\n",
       "                }\n",
       "\n",
       "                .geemap-colab {\n",
       "                    background-color: var(--colab-primary-surface-color, white);\n",
       "                }\n",
       "\n",
       "                .geemap-colab .jupyter-button {\n",
       "                    --jp-layout-color3: var(--colab-primary-surface-color, white);\n",
       "                }\n",
       "            </style>\n",
       "            "
      ],
      "text/plain": [
       "<IPython.core.display.HTML object>"
      ]
     },
     "metadata": {},
     "output_type": "display_data"
    }
   ],
   "source": [
    "geo_point = ee.Geometry.Point(GEO_POINT)\n",
    "geo_place = ee.Geometry.Polygon(GEO_PLACE)\n",
    "\n",
    "image = (\n",
    "  ee.Image(\n",
    "    ee.ImageCollection(\"COPERNICUS/S2_SR_HARMONIZED\")\n",
    "      .filterBounds(geo_point)\n",
    "      .filterDate('2023-01-01', '2023-12-01')\n",
    "      .sort('CLOUDY_PIXEL_PERCENTAGE')\n",
    "      .first()\n",
    "  )\n",
    ")\n",
    "\n",
    "label = 'class'\n",
    "\n",
    "feature_collection = image.select(BANDS_COPERNICUS).sampleRegions(\n",
    "  collection = feature,\n",
    "  properties = [label],\n",
    "  scale = 10,\n",
    "  geometries = True\n",
    ")\n",
    "# feature_collection.getInfo()\n",
    "\n",
    "image.getInfo()"
   ]
  },
  {
   "cell_type": "markdown",
   "metadata": {},
   "source": [
    "# Randon Forest Model"
   ]
  },
  {
   "cell_type": "code",
   "execution_count": null,
   "metadata": {},
   "outputs": [],
   "source": [
    "dataset = feature_collection.randomColumn()\n",
    "training = dataset.filter('random <= 0.8')\n",
    "validation = dataset.filter('random > 0.8')\n",
    "\n",
    "cls = ee.Classifier.smileRandomForest(10).train(training, label, BANDS_COPERNICUS)\n",
    "\n",
    "# store the classifier \n",
    "%store cls\n",
    "\n",
    "train_accuracy = cls.confusionMatrix()\n",
    "validation_sample = validation.classify(cls)\n",
    "validation_accuracy = validation_sample.errorMatrix(label, 'classification')\n",
    "\n",
    "\n",
    "# display('Results', cls.explain().getInfo())\n",
    "# display('Confusion Matrix', train_accuracy.getInfo())\n",
    "# display('Training error matrix', train_accuracy)\n",
    "# display('Training overall accuracy', train_accuracy.accuracy())\n",
    "# display('Validation error matrix', validation_accuracy)\n",
    "# display('Validation accuracy', validation_accuracy.accuracy())\n",
    "\n"
   ]
  },
  {
   "cell_type": "markdown",
   "metadata": {},
   "source": [
    "# 1997 Serie"
   ]
  },
  {
   "cell_type": "code",
   "execution_count": 21,
   "metadata": {},
   "outputs": [
    {
     "data": {
      "text/html": [
       "\n",
       "            <style>\n",
       "                .geemap-dark {\n",
       "                    --jp-widgets-color: white;\n",
       "                    --jp-widgets-label-color: white;\n",
       "                    --jp-ui-font-color1: white;\n",
       "                    --jp-layout-color2: #454545;\n",
       "                    background-color: #383838;\n",
       "                }\n",
       "\n",
       "                .geemap-dark .jupyter-button {\n",
       "                    --jp-layout-color3: #383838;\n",
       "                }\n",
       "\n",
       "                .geemap-colab {\n",
       "                    background-color: var(--colab-primary-surface-color, white);\n",
       "                }\n",
       "\n",
       "                .geemap-colab .jupyter-button {\n",
       "                    --jp-layout-color3: var(--colab-primary-surface-color, white);\n",
       "                }\n",
       "            </style>\n",
       "            "
      ],
      "text/plain": [
       "<IPython.core.display.HTML object>"
      ]
     },
     "metadata": {},
     "output_type": "display_data"
    },
    {
     "data": {
      "application/vnd.jupyter.widget-view+json": {
       "model_id": "844e90f8caeb42dc9c6911a0d4db1d4d",
       "version_major": 2,
       "version_minor": 0
      },
      "text/plain": [
       "Map(center=[-12.609558240448216, -41.501150593949305], controls=(WidgetControl(options=['position', 'transpare…"
      ]
     },
     "execution_count": 21,
     "metadata": {},
     "output_type": "execute_result"
    }
   ],
   "source": [
    "image_1997_1 = ee.Image(\n",
    "  ee.ImageCollection(\"LANDSAT/LE07/C02/T1_RT\")\n",
    "    .filterBounds(geo_point)\n",
    "    .filterDate('2001-01-01', '2001-12-30')\n",
    "    .sort('CLOUDY_PIXEL_PERCENTAGE')\n",
    "    .first()\n",
    ")\n",
    "# image_1997_2 = ee.Image(\n",
    "#   ee.ImageCollection(\"LANDSAT/LE07/C02/T1_RT\")\n",
    "#     .filterBounds(GEO_POINT)\n",
    "#     .filterDate('1997-01-05', '1997-08-30')\n",
    "#     .sort('CLOUDY_COVER_LAND')\n",
    "#     .first()\n",
    "# )\n",
    "# image_1997_3 = ee.Image(\n",
    "#   ee.ImageCollection(\"LANDSAT/LE07/C02/T1_RT\")\n",
    "#     .filterBounds(GEO_POINT)\n",
    "#     .filterDate('1997-01-09', '1997-12-30')\n",
    "#     .sort('CLOUDY_COVER_LAND')\n",
    "#     .first()\n",
    "# )\n",
    "\n",
    "# landcover = image_1997_1.clip(geo_place)\n",
    "map_1997 = geemap.Map(center=[-12.609558240448216,-41.501150593949305], zoom=15)\n",
    "map_1997.addLayer(image_1997_1, {'bands': ['B4', 'B3', 'B2'], 'min': 0, 'max': 2000, \"gamma\": 3.5}, '1997_1')\n",
    "map_1997\n"
   ]
  },
  {
   "cell_type": "markdown",
   "metadata": {},
   "source": [
    "# Map view"
   ]
  },
  {
   "cell_type": "code",
   "execution_count": null,
   "metadata": {},
   "outputs": [],
   "source": [
    "capao_landcover = image.clip(geo_place).select(BANDS_LANDSET_7).classify(cls)\n",
    "\n",
    "landcover_area = ee.Image.pixelArea().addBands(capao_landcover)\n",
    "\n",
    "feature_areas = landcover_area.reduceRegions(\n",
    "  reducer = ee.Reducer.sum().group({\n",
    "    \"groupField\": 1,\n",
    "    \"groupName\": \"class\"\n",
    "  }),\n",
    "  geometry=feature,\n",
    "  scale=10,\n",
    "  maxPixel=1e90\n",
    ")\n",
    "\n",
    "map = geemap.Map(center=[-12.609558240448216,-41.501150593949305], zoom=15)\n",
    "\n",
    "class_vis = {\n",
    "    'min': 0,\n",
    "    'max': 10,\n",
    "    'palette': [\n",
    "        'green',\n",
    "        'ffbb22',\n",
    "        'ffff4c',\n",
    "        'f096ff',\n",
    "        'fa0000',\n",
    "        'b4b4b4',\n",
    "        'f0f0f0',\n",
    "        '0064c8',\n",
    "        '0096a0',\n",
    "        '00cf75',\n",
    "        'fae6a0',\n",
    "    ],\n",
    "}\n",
    "\n",
    "\n",
    "# Adjust this value to increase or decrease the contrast\n",
    "vis_params = {\"bands\": ['B2', 'B3', 'B4'],  min: 0, max: 2000, \"gamma\": 3}\n",
    "\n",
    "# map.add_layer(image, vis_params, 'Polygon')\n",
    "map.add_layer(capao_landcover, class_vis, 'Classification')\n",
    "\n",
    "# Display the map\n",
    "map\n"
   ]
  }
 ],
 "metadata": {
  "kernelspec": {
   "display_name": "capao-urban-rate-3l7dZDhn-py3.12",
   "language": "python",
   "name": "python3"
  },
  "language_info": {
   "codemirror_mode": {
    "name": "ipython",
    "version": 3
   },
   "file_extension": ".py",
   "mimetype": "text/x-python",
   "name": "python",
   "nbconvert_exporter": "python",
   "pygments_lexer": "ipython3",
   "version": "3.11.5"
  }
 },
 "nbformat": 4,
 "nbformat_minor": 2
}
