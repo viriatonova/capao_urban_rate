{
 "cells": [
  {
   "cell_type": "markdown",
   "metadata": {},
   "source": [
    "# Capao Urban Rate\n",
    "\n",
    "This notebook aims to estimate the current urban growth rate for the place: Vale do Capão, Palmeiras, BA, Brasil. By using Google Earth satellite images and analyzing RGB pixel data, we can determine the growth rate in areas featuring houses, roads, construction sites, or where forests have been cleared for humans uses. For this case study, we have chosen COPERNICUS satellite images."
   ]
  },
  {
   "cell_type": "code",
   "execution_count": null,
   "metadata": {},
   "outputs": [],
   "source": [
    "import ee\n",
    "import geemap as geemap\n",
    "import pandas as pd\n",
    "\n",
    "from utils.utils import mileseconds_to_date\n",
    "from utils.features import get_coordinates\n",
    "from utils.contants import (\n",
    "  PROJECT, \n",
    "  GEO_POINT,\n",
    "  GEO_PLACE,\n",
    "  BANDS_STANDARD,\n",
    "  BANDS_LANDSET_7,\n",
    "  BANDS\n",
    ")\n",
    "\n",
    "ee.Authenticate()\n",
    "ee.Initialize(project=PROJECT)\n",
    "geemap.ee_initialize()"
   ]
  },
  {
   "cell_type": "markdown",
   "metadata": {},
   "source": [
    "# Feature Collection "
   ]
  },
  {
   "cell_type": "code",
   "execution_count": null,
   "metadata": {},
   "outputs": [],
   "source": [
    "# Pre process urban features\n",
    "df = pd.read_csv('./data/urban_features.csv')\n",
    "raw_urban = df['.geo'].tolist()\n",
    "urban = [get_coordinates(i) for i in raw_urban]\n",
    "\n",
    "urban_features_list = [\n",
    "  ee.Feature(ee.Geometry.Point(urban[i][0], urban[i][1]), {'class': 1 }) for i in range(len(urban))\n",
    "]\n",
    "\n",
    "# Pre process vegetation features\n",
    "df = pd.read_csv('./data/vegetation_feature.csv')\n",
    "raw_vegetation = df['.geo'].tolist()\n",
    "vegetation = [get_coordinates(i) for i in raw_vegetation]\n",
    "\n",
    "vegetation_features_list = [\n",
    "  ee.Feature(ee.Geometry.Point(vegetation[i][0], vegetation[i][1]), {'class': 0 }) for i in range(len(vegetation))\n",
    "]\n",
    "\n",
    "# Feature collections\n",
    "urban_features = ee.FeatureCollection(urban_features_list, 'urban')\n",
    "vegetation_features = ee.FeatureCollection(vegetation_features_list, 'vegetation')\n",
    "\n",
    "feature = urban_features.merge(vegetation_features)\n",
    "\n",
    "# feature.getInfo()"
   ]
  },
  {
   "cell_type": "markdown",
   "metadata": {},
   "source": [
    "# Dataset"
   ]
  },
  {
   "cell_type": "code",
   "execution_count": null,
   "metadata": {},
   "outputs": [],
   "source": [
    "geo_point = ee.Geometry.Point(GEO_POINT)\n",
    "geo_place = ee.Geometry.Polygon(GEO_PLACE)\n",
    "\n",
    "raw_image = (\n",
    "  ee.Image(\n",
    "    ee.ImageCollection(\"LANDSAT/LC09/C02/T1\")\n",
    "      .filterBounds(geo_point)\n",
    "      .filterDate('2023-01-01', '2023-12-01')\n",
    "      .sort('CLOUDY_PIXEL_PERCENTAGE')\n",
    "      .first()\n",
    "  )\n",
    ")\n",
    "\n",
    "image = raw_image.select(BANDS_STANDARD).rename(BANDS)\n",
    "\n",
    "label = 'class'\n",
    "\n",
    "feature_collection = image.select(BANDS).sampleRegions(\n",
    "  collection = feature,\n",
    "  properties = [label],\n",
    "  scale = 10,\n",
    "  geometries = True\n",
    ")\n",
    "\n",
    "# Checking bands names\n",
    "# print(image.bandNames().getInfo())"
   ]
  },
  {
   "cell_type": "markdown",
   "metadata": {},
   "source": [
    "# Random Forest Model"
   ]
  },
  {
   "cell_type": "code",
   "execution_count": null,
   "metadata": {},
   "outputs": [],
   "source": [
    "dataset = feature_collection.randomColumn()\n",
    "training = dataset.filter('random <= 0.8')\n",
    "validation = dataset.filter('random > 0.8')\n",
    "\n",
    "cls = ee.Classifier.smileRandomForest(10).train(training, label, BANDS)\n",
    "\n",
    "# store the classifier \n",
    "# %store cls\n",
    "\n",
    "train_accuracy_standard = cls.confusionMatrix()\n",
    "validation_sample_standard = validation.classify(cls)\n",
    "validation_accuracy_standard = validation_sample_standard.errorMatrix(label, 'classification')\n",
    "\n",
    "# display('Results', cls.explain().getInfo())\n",
    "# display('Confusion Matrix', train_accuracy.getInfo())\n",
    "# display('Training error matrix', train_accuracy)\n",
    "# display('Training overall accuracy', train_accuracy.accuracy())\n",
    "# display('Validation error matrix', validation_accuracy)\n",
    "# display('Validation accuracy', validation_accuracy.accuracy())\n",
    "\n"
   ]
  },
  {
   "cell_type": "markdown",
   "metadata": {},
   "source": [
    "# Image Series\n",
    "Using Google Earch Image Collection to extract timeseries images to representate the current urban progression \n",
    "\n",
    "- USGS Landsat 7 Collection 2 Tier 1 Raw Scenes. Image collection started from 1997\n",
    "- USGS Landsat 8 Collection 2 Tier 1 Raw Scenes. Image collection started from 2013\n",
    "- USGS Landsat 9 Collection 2 Tier 1 Raw Scenes. Image collection started from 2021\n",
    "\n",
    "Images from 1997 and 1998 aren't available in the dataset"
   ]
  },
  {
   "cell_type": "code",
   "execution_count": 83,
   "metadata": {},
   "outputs": [
    {
     "data": {
      "text/html": [
       "\n",
       "            <style>\n",
       "                .geemap-dark {\n",
       "                    --jp-widgets-color: white;\n",
       "                    --jp-widgets-label-color: white;\n",
       "                    --jp-ui-font-color1: white;\n",
       "                    --jp-layout-color2: #454545;\n",
       "                    background-color: #383838;\n",
       "                }\n",
       "\n",
       "                .geemap-dark .jupyter-button {\n",
       "                    --jp-layout-color3: #383838;\n",
       "                }\n",
       "\n",
       "                .geemap-colab {\n",
       "                    background-color: var(--colab-primary-surface-color, white);\n",
       "                }\n",
       "\n",
       "                .geemap-colab .jupyter-button {\n",
       "                    --jp-layout-color3: var(--colab-primary-surface-color, white);\n",
       "                }\n",
       "            </style>\n",
       "            "
      ],
      "text/plain": [
       "<IPython.core.display.HTML object>"
      ]
     },
     "metadata": {},
     "output_type": "display_data"
    },
    {
     "name": "stdout",
     "output_type": "stream",
     "text": [
      "No image found\n"
     ]
    },
    {
     "ename": "EEException",
     "evalue": "Image.bandNames: Parameter 'image' is required.",
     "output_type": "error",
     "traceback": [
      "\u001b[0;31m---------------------------------------------------------------------------\u001b[0m",
      "\u001b[0;31mHttpError\u001b[0m                                 Traceback (most recent call last)",
      "File \u001b[0;32m~/Documents/repos/capao_urban_rate/.venv/lib/python3.12/site-packages/ee/data.py:402\u001b[0m, in \u001b[0;36m_execute_cloud_call\u001b[0;34m(call, num_retries)\u001b[0m\n\u001b[1;32m    401\u001b[0m \u001b[38;5;28;01mtry\u001b[39;00m:\n\u001b[0;32m--> 402\u001b[0m   \u001b[38;5;28;01mreturn\u001b[39;00m \u001b[43mcall\u001b[49m\u001b[38;5;241;43m.\u001b[39;49m\u001b[43mexecute\u001b[49m\u001b[43m(\u001b[49m\u001b[43mnum_retries\u001b[49m\u001b[38;5;241;43m=\u001b[39;49m\u001b[43mnum_retries\u001b[49m\u001b[43m)\u001b[49m\n\u001b[1;32m    403\u001b[0m \u001b[38;5;28;01mexcept\u001b[39;00m googleapiclient\u001b[38;5;241m.\u001b[39merrors\u001b[38;5;241m.\u001b[39mHttpError \u001b[38;5;28;01mas\u001b[39;00m e:\n",
      "File \u001b[0;32m~/Documents/repos/capao_urban_rate/.venv/lib/python3.12/site-packages/googleapiclient/_helpers.py:130\u001b[0m, in \u001b[0;36mpositional.<locals>.positional_decorator.<locals>.positional_wrapper\u001b[0;34m(*args, **kwargs)\u001b[0m\n\u001b[1;32m    129\u001b[0m         logger\u001b[38;5;241m.\u001b[39mwarning(message)\n\u001b[0;32m--> 130\u001b[0m \u001b[38;5;28;01mreturn\u001b[39;00m \u001b[43mwrapped\u001b[49m\u001b[43m(\u001b[49m\u001b[38;5;241;43m*\u001b[39;49m\u001b[43margs\u001b[49m\u001b[43m,\u001b[49m\u001b[43m \u001b[49m\u001b[38;5;241;43m*\u001b[39;49m\u001b[38;5;241;43m*\u001b[39;49m\u001b[43mkwargs\u001b[49m\u001b[43m)\u001b[49m\n",
      "File \u001b[0;32m~/Documents/repos/capao_urban_rate/.venv/lib/python3.12/site-packages/googleapiclient/http.py:938\u001b[0m, in \u001b[0;36mHttpRequest.execute\u001b[0;34m(self, http, num_retries)\u001b[0m\n\u001b[1;32m    937\u001b[0m \u001b[38;5;28;01mif\u001b[39;00m resp\u001b[38;5;241m.\u001b[39mstatus \u001b[38;5;241m>\u001b[39m\u001b[38;5;241m=\u001b[39m \u001b[38;5;241m300\u001b[39m:\n\u001b[0;32m--> 938\u001b[0m     \u001b[38;5;28;01mraise\u001b[39;00m HttpError(resp, content, uri\u001b[38;5;241m=\u001b[39m\u001b[38;5;28mself\u001b[39m\u001b[38;5;241m.\u001b[39muri)\n\u001b[1;32m    939\u001b[0m \u001b[38;5;28;01mreturn\u001b[39;00m \u001b[38;5;28mself\u001b[39m\u001b[38;5;241m.\u001b[39mpostproc(resp, content)\n",
      "\u001b[0;31mHttpError\u001b[0m: <HttpError 400 when requesting https://earthengine.googleapis.com/v1/projects/ee-viriatosampaio/value:compute?prettyPrint=false&alt=json returned \"Image.bandNames: Parameter 'image' is required.\". Details: \"Image.bandNames: Parameter 'image' is required.\">",
      "\nDuring handling of the above exception, another exception occurred:\n",
      "\u001b[0;31mEEException\u001b[0m                               Traceback (most recent call last)",
      "Cell \u001b[0;32mIn[83], line 29\u001b[0m\n\u001b[1;32m     26\u001b[0m raw_image \u001b[38;5;241m=\u001b[39m ee\u001b[38;5;241m.\u001b[39mImage(filtered_colletion\u001b[38;5;241m.\u001b[39mfirst())\n\u001b[1;32m     27\u001b[0m \u001b[38;5;66;03m# raw_image = filteres_colletion.mosaic()\u001b[39;00m\n\u001b[0;32m---> 29\u001b[0m \u001b[38;5;28mprint\u001b[39m(\u001b[43mraw_image\u001b[49m\u001b[38;5;241;43m.\u001b[39;49m\u001b[43mbandNames\u001b[49m\u001b[43m(\u001b[49m\u001b[43m)\u001b[49m\u001b[38;5;241;43m.\u001b[39;49m\u001b[43mgetInfo\u001b[49m\u001b[43m(\u001b[49m\u001b[43m)\u001b[49m)\n\u001b[1;32m     31\u001b[0m \u001b[38;5;66;03m# Changing the band names\u001b[39;00m\n\u001b[1;32m     32\u001b[0m image \u001b[38;5;241m=\u001b[39m raw_image\u001b[38;5;241m.\u001b[39mselect(current_bands)\u001b[38;5;241m.\u001b[39mrename(BANDS)\n",
      "File \u001b[0;32m~/Documents/repos/capao_urban_rate/.venv/lib/python3.12/site-packages/ee/computedobject.py:107\u001b[0m, in \u001b[0;36mComputedObject.getInfo\u001b[0;34m(self)\u001b[0m\n\u001b[1;32m    101\u001b[0m \u001b[38;5;28;01mdef\u001b[39;00m \u001b[38;5;21mgetInfo\u001b[39m(\u001b[38;5;28mself\u001b[39m) \u001b[38;5;241m-\u001b[39m\u001b[38;5;241m>\u001b[39m Optional[Any]:\n\u001b[1;32m    102\u001b[0m \u001b[38;5;250m  \u001b[39m\u001b[38;5;124;03m\"\"\"Fetch and return information about this object.\u001b[39;00m\n\u001b[1;32m    103\u001b[0m \n\u001b[1;32m    104\u001b[0m \u001b[38;5;124;03m  Returns:\u001b[39;00m\n\u001b[1;32m    105\u001b[0m \u001b[38;5;124;03m    The object can evaluate to anything.\u001b[39;00m\n\u001b[1;32m    106\u001b[0m \u001b[38;5;124;03m  \"\"\"\u001b[39;00m\n\u001b[0;32m--> 107\u001b[0m   \u001b[38;5;28;01mreturn\u001b[39;00m \u001b[43mdata\u001b[49m\u001b[38;5;241;43m.\u001b[39;49m\u001b[43mcomputeValue\u001b[49m\u001b[43m(\u001b[49m\u001b[38;5;28;43mself\u001b[39;49m\u001b[43m)\u001b[49m\n",
      "File \u001b[0;32m~/Documents/repos/capao_urban_rate/.venv/lib/python3.12/site-packages/ee/data.py:1107\u001b[0m, in \u001b[0;36mcomputeValue\u001b[0;34m(obj)\u001b[0m\n\u001b[1;32m   1104\u001b[0m body \u001b[38;5;241m=\u001b[39m {\u001b[38;5;124m'\u001b[39m\u001b[38;5;124mexpression\u001b[39m\u001b[38;5;124m'\u001b[39m: serializer\u001b[38;5;241m.\u001b[39mencode(obj, for_cloud_api\u001b[38;5;241m=\u001b[39m\u001b[38;5;28;01mTrue\u001b[39;00m)}\n\u001b[1;32m   1105\u001b[0m _maybe_populate_workload_tag(body)\n\u001b[0;32m-> 1107\u001b[0m \u001b[38;5;28;01mreturn\u001b[39;00m \u001b[43m_execute_cloud_call\u001b[49m\u001b[43m(\u001b[49m\n\u001b[1;32m   1108\u001b[0m \u001b[43m    \u001b[49m\u001b[43m_get_cloud_projects\u001b[49m\u001b[43m(\u001b[49m\u001b[43m)\u001b[49m\n\u001b[1;32m   1109\u001b[0m \u001b[43m    \u001b[49m\u001b[38;5;241;43m.\u001b[39;49m\u001b[43mvalue\u001b[49m\u001b[43m(\u001b[49m\u001b[43m)\u001b[49m\n\u001b[1;32m   1110\u001b[0m \u001b[43m    \u001b[49m\u001b[38;5;241;43m.\u001b[39;49m\u001b[43mcompute\u001b[49m\u001b[43m(\u001b[49m\u001b[43mbody\u001b[49m\u001b[38;5;241;43m=\u001b[39;49m\u001b[43mbody\u001b[49m\u001b[43m,\u001b[49m\u001b[43m \u001b[49m\u001b[43mproject\u001b[49m\u001b[38;5;241;43m=\u001b[39;49m\u001b[43m_get_projects_path\u001b[49m\u001b[43m(\u001b[49m\u001b[43m)\u001b[49m\u001b[43m,\u001b[49m\u001b[43m \u001b[49m\u001b[43mprettyPrint\u001b[49m\u001b[38;5;241;43m=\u001b[39;49m\u001b[38;5;28;43;01mFalse\u001b[39;49;00m\u001b[43m)\u001b[49m\n\u001b[1;32m   1111\u001b[0m \u001b[43m\u001b[49m\u001b[43m)\u001b[49m[\u001b[38;5;124m'\u001b[39m\u001b[38;5;124mresult\u001b[39m\u001b[38;5;124m'\u001b[39m]\n",
      "File \u001b[0;32m~/Documents/repos/capao_urban_rate/.venv/lib/python3.12/site-packages/ee/data.py:404\u001b[0m, in \u001b[0;36m_execute_cloud_call\u001b[0;34m(call, num_retries)\u001b[0m\n\u001b[1;32m    402\u001b[0m   \u001b[38;5;28;01mreturn\u001b[39;00m call\u001b[38;5;241m.\u001b[39mexecute(num_retries\u001b[38;5;241m=\u001b[39mnum_retries)\n\u001b[1;32m    403\u001b[0m \u001b[38;5;28;01mexcept\u001b[39;00m googleapiclient\u001b[38;5;241m.\u001b[39merrors\u001b[38;5;241m.\u001b[39mHttpError \u001b[38;5;28;01mas\u001b[39;00m e:\n\u001b[0;32m--> 404\u001b[0m   \u001b[38;5;28;01mraise\u001b[39;00m _translate_cloud_exception(e)\n",
      "\u001b[0;31mEEException\u001b[0m: Image.bandNames: Parameter 'image' is required."
     ]
    }
   ],
   "source": [
    "\n",
    "image_series = {}\n",
    "satelite = 'LANDSAT/LC09/C02/T1' \n",
    "\n",
    "for year in range(1999, 2024):\n",
    "    current_bands = BANDS_LANDSET_7 if year < 2013 else BANDS_STANDARD\n",
    "    if year < 2013:\n",
    "        satelite = 'LANDSAT/LE07/C02/T1'\n",
    "    elif 2012 < year < 2021:\n",
    "        satelite = 'LANDSAT/LC08/C02/T1'\n",
    "\n",
    "    image_collection = (ee.ImageCollection(satelite)\n",
    "        .filterBounds(geo_point)\n",
    "        .filterDate(f'{year}-01-01', f'{year}-12-30')\n",
    "    )\n",
    "\n",
    "    #TODO: Get a better filter for the image serie\n",
    "    try: \n",
    "        filtered_colletion = image_collection.filter(ee.Filter.And(\n",
    "            ee.Filter.eq('CLOUD_COVER', 50),\n",
    "            # ee.Filter.eq('CLOUD_COVER_LAND', 0),\n",
    "        ))\n",
    "        if filtered_colletion.size().getInfo() == 0:\n",
    "            raise Exception('No image found')\n",
    "    except Exception as e:\n",
    "        print(e)\n",
    "\n",
    "    raw_image = ee.Image(filtered_colletion.first())\n",
    "    # raw_image = filteres_colletion.mosaic()\n",
    "\n",
    "    print(raw_image.bandNames().getInfo())\n",
    "\n",
    "    # Changing the band names\n",
    "    image = raw_image.select(current_bands).rename(BANDS)\n",
    "\n",
    "    # Getting image date\n",
    "    # image_raw_date = image.date().getInfo().get('value')\n",
    "    # image_date = mileseconds_to_date(image_raw_date)\n",
    "\n",
    "    # Store and Classify image\n",
    "    image_series[year] = {\n",
    "        'image': image, \n",
    "        # 'date': image_date,\n",
    "        'landcover_classified': image.clip(geo_place).select(BANDS).classify(cls)\n",
    "    }\n",
    "\n",
    "# landcover = image_1997_1.clip(geo_place)\n",
    "# current_map = geemap.Map(center=[-12.609558240448216,-41.501150593949305], zoom=15)\n",
    "# current_map.addLayer(image_series[1999]['image'], {'bands': ['B1', 'B2', 'B3'], 'min': 0, 'max': 2000, \"gamma\": 3}, '1997')\n",
    "# current_map"
   ]
  },
  {
   "cell_type": "markdown",
   "metadata": {},
   "source": [
    "# Urban rate "
   ]
  },
  {
   "cell_type": "code",
   "execution_count": null,
   "metadata": {},
   "outputs": [],
   "source": [
    "#TODO: Create a datase with the urban area amount per year\n",
    "#TODO: Create a Regression model to predict the urban area amount for next 10 years using the model. "
   ]
  },
  {
   "cell_type": "markdown",
   "metadata": {},
   "source": [
    "# Map view"
   ]
  },
  {
   "cell_type": "code",
   "execution_count": null,
   "metadata": {},
   "outputs": [],
   "source": [
    "# capao_landcover = image_series[2000]['landcover_classified'].clip(geo_place)\n",
    "\n",
    "# landcover_area = ee.Image.pixelArea().addBands(capao_landcover)\n",
    "\n",
    "# feature_areas = landcover_area.reduceRegions(\n",
    "#   reducer = ee.Reducer.sum().group({\n",
    "#     \"groupField\": 1,\n",
    "#     \"groupName\": \"class\"\n",
    "#   }),\n",
    "#   geometry=feature,\n",
    "#   scale=10,\n",
    "#   maxPixel=1e90\n",
    "# )\n",
    "\n",
    "map = geemap.Map(center=[-12.609558240448216,-41.501150593949305], zoom=13)\n",
    "\n",
    "vis_params = {\n",
    "  \"bands\": [\"Blue\", \"Green\", \"Red\"],  \n",
    "  min: 0, \n",
    "  max: 2000, \n",
    "  \"gamma\": 3\n",
    "}\n",
    "\n",
    "class_vis = {\n",
    "    'min': 0,\n",
    "    'max': 10,\n",
    "    'palette': [\n",
    "        'green',\n",
    "        'ffbb22',\n",
    "        'ffff4c',\n",
    "        'f096ff',\n",
    "        'fa0000',\n",
    "        'b4b4b4',\n",
    "        'f0f0f0',\n",
    "        '0064c8',\n",
    "        '0096a0',\n",
    "        '00cf75',\n",
    "        'fae6a0',\n",
    "    ],\n",
    "}\n",
    "\n",
    "year = 2023\n",
    "\n",
    "# map.add_layer(image, vis_params, 'Polygon')\n",
    "map.add_layer(image_series[year]['image'], vis_params, 'view')\n",
    "map.add_layer(image_series[year]['landcover_classified'], class_vis, 'classified', opacity=0.15)\n",
    "\n",
    "# Display the map\n",
    "map\n"
   ]
  }
 ],
 "metadata": {
  "kernelspec": {
   "display_name": "capao-urban-rate-3l7dZDhn-py3.12",
   "language": "python",
   "name": "python3"
  },
  "language_info": {
   "codemirror_mode": {
    "name": "ipython",
    "version": 3
   },
   "file_extension": ".py",
   "mimetype": "text/x-python",
   "name": "python",
   "nbconvert_exporter": "python",
   "pygments_lexer": "ipython3",
   "version": "3.12.2"
  }
 },
 "nbformat": 4,
 "nbformat_minor": 2
}
