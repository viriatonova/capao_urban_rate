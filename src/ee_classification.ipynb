{
 "cells": [
  {
   "cell_type": "markdown",
   "metadata": {},
   "source": [
    "# Capao Urban Rate\n",
    "\n",
    "This notebook aims to estimate the current urban growth rate for the place: Vale do Capão, Palmeiras, BA, Brasil. By using Google Earth satellite images and analyzing RGB pixel data, we can determine the growth rate in areas featuring houses, roads, construction sites, or where forests have been cleared for humans uses. For this case study, we have chosen COPERNICUS satellite images."
   ]
  },
  {
   "cell_type": "code",
   "execution_count": null,
   "metadata": {},
   "outputs": [],
   "source": [
    "import ee\n",
    "import geemap as geemap\n",
    "import pandas as pd\n",
    "\n",
    "from pprint import pprint\n",
    "from utils.utils import mileseconds_to_date\n",
    "from utils.features import get_coordinates\n",
    "from utils.contants import (\n",
    "  PROJECT, \n",
    "  GEO_POINT,\n",
    "  GEO_PLACE,\n",
    "  BANDS_STANDARD,\n",
    "  BANDS_LANDSET_7,\n",
    "  BANDS,\n",
    ")\n",
    "\n",
    "ee.Authenticate()\n",
    "ee.Initialize(project=PROJECT)\n",
    "geemap.ee_initialize()"
   ]
  },
  {
   "cell_type": "markdown",
   "metadata": {},
   "source": [
    "# Feature Collection "
   ]
  },
  {
   "cell_type": "code",
   "execution_count": null,
   "metadata": {},
   "outputs": [],
   "source": [
    "# Pre process urban features\n",
    "df = pd.read_csv('./data/urban_features.csv')\n",
    "raw_urban = df['.geo'].tolist()\n",
    "urban = [get_coordinates(i) for i in raw_urban]\n",
    "\n",
    "urban_features_list = [\n",
    "  ee.Feature(ee.Geometry.Point(urban[i][0], urban[i][1]), {'class': 1 }) for i in range(len(urban))\n",
    "]\n",
    "\n",
    "# Pre process vegetation features\n",
    "df = pd.read_csv('./data/vegetation_feature.csv')\n",
    "raw_vegetation = df['.geo'].tolist()\n",
    "vegetation = [get_coordinates(i) for i in raw_vegetation]\n",
    "\n",
    "vegetation_features_list = [\n",
    "  ee.Feature(ee.Geometry.Point(vegetation[i][0], vegetation[i][1]), {'class': 0 }) for i in range(len(vegetation))\n",
    "]\n",
    "\n",
    "# Feature collections\n",
    "urban_features = ee.FeatureCollection(urban_features_list, 'urban')\n",
    "vegetation_features = ee.FeatureCollection(vegetation_features_list, 'vegetation')\n",
    "\n",
    "feature = urban_features.merge(vegetation_features)"
   ]
  },
  {
   "cell_type": "markdown",
   "metadata": {},
   "source": [
    "# Dataset"
   ]
  },
  {
   "cell_type": "code",
   "execution_count": null,
   "metadata": {},
   "outputs": [],
   "source": [
    "geo_point = ee.Geometry.Point(GEO_POINT)\n",
    "geo_place = ee.Geometry.Polygon(GEO_PLACE)\n",
    "\n",
    "raw_image = (\n",
    "    ee.ImageCollection(\"LANDSAT/LC09/C02/T1\")\n",
    "      .filterBounds(geo_point)\n",
    "      .filterDate('2023-01-01', '2023-12-30')\n",
    "      .sort('CLOUD_COVER')\n",
    "      .first()\n",
    ")\n",
    "\n",
    "image = raw_image.select(BANDS_STANDARD).rename(BANDS)\n",
    "\n",
    "label = 'class'\n",
    "\n",
    "feature_collection = image.select(BANDS).sampleRegions(\n",
    "  collection = feature,\n",
    "  properties = [label],\n",
    "  scale = 10,\n",
    "  geometries = True\n",
    ")"
   ]
  },
  {
   "cell_type": "markdown",
   "metadata": {},
   "source": [
    "# Random Forest Model"
   ]
  },
  {
   "cell_type": "code",
   "execution_count": null,
   "metadata": {},
   "outputs": [],
   "source": [
    "dataset = feature_collection.randomColumn()\n",
    "training = dataset.filter('random <= 0.8')\n",
    "validation = dataset.filter('random > 0.2')\n",
    "\n",
    "cls = ee.Classifier.smileRandomForest(10).train(training, label, BANDS)\n",
    "\n",
    "train_accuracy = cls.confusionMatrix()\n",
    "validation_sample = validation.classify(cls)\n",
    "validation_accuracy = validation_sample.errorMatrix(label, 'classification')\n",
    "\n",
    "display('Confusion Matrix', train_accuracy.getInfo())\n",
    "display('Training overall accuracy', train_accuracy.accuracy())\n",
    "display('Validation error matrix', validation_accuracy.getInfo())\n",
    "display('Validation accuracy', validation_accuracy.accuracy())\n",
    "\n"
   ]
  },
  {
   "cell_type": "markdown",
   "metadata": {},
   "source": [
    "# Image Series\n",
    "Using Google Earch Image Collection to extract timeseries images to representate the current urban progression \n",
    "\n",
    "- USGS Landsat 7 Collection 2 Tier 1 Raw Scenes. Image collection started from 1997\n",
    "- USGS Landsat 8 Collection 2 Tier 1 Raw Scenes. Image collection started from 2013\n",
    "- USGS Landsat 9 Collection 2 Tier 1 Raw Scenes. Image collection started from 2021\n",
    "\n",
    "Images from 1997 and 1998 aren't available in the dataset"
   ]
  },
  {
   "cell_type": "code",
   "execution_count": null,
   "metadata": {},
   "outputs": [],
   "source": [
    "\n",
    "image_series = {}\n",
    "satelite = '' \n",
    "cloud_cover = 50\n",
    "\n",
    "for year in range(1999, 2024):\n",
    "    current_bands = BANDS_LANDSET_7 if year < 2013 else BANDS_STANDARD\n",
    "\n",
    "    if year < 2013:\n",
    "        satelite = 'LANDSAT/LE07/C02/T1'\n",
    "    elif 2012 < year < 2021:\n",
    "        satelite = 'LANDSAT/LC08/C02/T1'\n",
    "    else:\n",
    "        satelite = 'LANDSAT/LC09/C02/T1'\n",
    "\n",
    "    image_collection = (ee.ImageCollection(satelite)\n",
    "        .filterBounds(geo_point)\n",
    "        .filterDate(f'{year}-01-01', f'{year}-12-30')\n",
    "    )\n",
    "\n",
    "    # SUPPORT: Get a mosaic from the first 3 images to get better image result\n",
    "    # filtered_colletion = image_collection.limit(3)\n",
    "    # raw_image = ee.ImageCollection(filtered_colletion).mosaic()\n",
    "    \n",
    "    # SUPPORT: Get the first image from the collection filterd by cloud cover\n",
    "    raw_image = image_collection.sort('CLOUD_COVER').first()\n",
    "\n",
    "    # Get image infos:\n",
    "    collection_size = image_collection.size().getInfo()\n",
    "    raw_date = image.date().getInfo().get('value')\n",
    "    image_date = mileseconds_to_date(raw_date)\n",
    "\n",
    "    # SUPPORT: Cloud mask to fix the cloud cover incidence\n",
    "    # image = raw_image.select(current_bands).mask(raw_image.select('CLOUD_COVER').lte(cloud_cover))\n",
    "\n",
    "    # Changing the band names\n",
    "    image = raw_image.select(current_bands).rename(BANDS)\n",
    "    \n",
    "\n",
    "    # Store data\n",
    "    image_series[year] = {\n",
    "        'satelite': satelite,\n",
    "        'collection size':collection_size,\n",
    "        'image': image,\n",
    "        'date': image_date,\n",
    "        'landcover_classified': image.clip(geo_place).select(BANDS).classify(cls)\n",
    "    }"
   ]
  },
  {
   "cell_type": "markdown",
   "metadata": {},
   "source": [
    "# Urban rate \n",
    "\n",
    "- The area is given in m² and calculated in km²"
   ]
  },
  {
   "cell_type": "code",
   "execution_count": null,
   "metadata": {},
   "outputs": [],
   "source": [
    "for year in range(1999, 2024):\n",
    "    classified_image = image_series[year]['landcover_classified']\n",
    "    areaImage = ee.Image.pixelArea().addBands(image_series[year]['landcover_classified']);\n",
    "\n",
    "    area_class_0 = areaImage.updateMask(classified_image.eq(0)).reduceRegion(\n",
    "        reducer=ee.Reducer.sum(),\n",
    "        scale=30,\n",
    "        maxPixels=1e13\n",
    "    )\n",
    "\n",
    "    area_class_1 = areaImage.updateMask(classified_image.eq(1)).reduceRegion(\n",
    "        reducer=ee.Reducer.sum(),\n",
    "        scale=30,\n",
    "        maxPixels=1e13\n",
    "    )\n",
    "\n",
    "    image_series[year][\"vegetation_area\"] = area_class_0.get('area').getInfo()\n",
    "    image_series[year][\"urban_area\"] = area_class_1.get('area').getInfo()"
   ]
  },
  {
   "cell_type": "code",
   "execution_count": null,
   "metadata": {},
   "outputs": [],
   "source": [
    "# Create a DataFrame by classified areas\n",
    "\n",
    "years = []\n",
    "satelites = []\n",
    "vegetation_areas = []\n",
    "urban_areas = []\n",
    "\n",
    "for year, data in image_series.items():\n",
    "    years.append(year)\n",
    "    satelites.append(data['satelite'])\n",
    "    vegetation_areas.append(round(data['vegetation_area'] / 1e6, 2))\n",
    "    urban_areas.append(round(data['urban_area'] / 1e6, 2))\n",
    "\n",
    "df_classified = pd.DataFrame({\n",
    "    'year': years,\n",
    "    'satelite': satelites,\n",
    "    'vegetation_area': vegetation_areas,\n",
    "    'urban_area': urban_areas,\n",
    "})\n",
    "\n",
    "#TODO: Create a Regression model to predict the urban area amount for next 10 years using the model. \n",
    "\n",
    "df_classified"
   ]
  },
  {
   "cell_type": "markdown",
   "metadata": {},
   "source": [
    "# Map view"
   ]
  },
  {
   "cell_type": "code",
   "execution_count": null,
   "metadata": {},
   "outputs": [],
   "source": [
    "map = geemap.Map(center=[-12.609558240448216,-41.501150593949305], zoom=13)\n",
    "\n",
    "year = 2023\n",
    "\n",
    "vis_params = {\"bands\": [\"Blue\", \"Green\", \"Red\"],  min: 0, max: 2000, \"gamma\": 2.0}\n",
    "class_vis = {'min': 0,'max': 10,'palette': [\n",
    "    'green',\n",
    "    'blue',\n",
    "    'red',\n",
    "    'red',\n",
    "    'red',\n",
    "    'red',\n",
    "],}\n",
    "\n",
    "map.add_layer(image_series[year]['image'], vis_params, 'view')\n",
    "map.add_layer(image_series[year]['landcover_classified'], class_vis, 'classified', opacity=0.25)\n",
    "\n",
    "# Display the map\n",
    "map\n"
   ]
  }
 ],
 "metadata": {
  "kernelspec": {
   "display_name": "capao-urban-rate-3l7dZDhn-py3.12",
   "language": "python",
   "name": "python3"
  },
  "language_info": {
   "codemirror_mode": {
    "name": "ipython",
    "version": 3
   },
   "file_extension": ".py",
   "mimetype": "text/x-python",
   "name": "python",
   "nbconvert_exporter": "python",
   "pygments_lexer": "ipython3",
   "version": "3.12.2"
  }
 },
 "nbformat": 4,
 "nbformat_minor": 2
}
