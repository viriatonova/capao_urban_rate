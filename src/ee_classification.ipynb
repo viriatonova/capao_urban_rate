{
 "cells": [
  {
   "cell_type": "markdown",
   "metadata": {},
   "source": [
    "# Capao Urban Rate\n",
    "\n",
    "This notebook aims to estimate the current urban growth rate for the place: Vale do Capão, Palmeiras, BA, Brasil. By using Google Earth satellite images and analyzing RGB pixel data, we can determine the growth rate in areas featuring houses, roads, construction sites, or where forests have been cleared for humans uses. For this case study, we have chosen COPERNICUS satellite images."
   ]
  },
  {
   "cell_type": "code",
   "execution_count": null,
   "metadata": {},
   "outputs": [],
   "source": [
    "import ee\n",
    "import geemap as geemap\n",
    "import pandas as pd\n",
    "\n",
    "from utils.contants import PROJECT\n",
    "from utils.features import get_coordinates\n",
    "\n",
    "ee.Authenticate()\n",
    "ee.Initialize(project=PROJECT)\n",
    "geemap.ee_initialize()"
   ]
  },
  {
   "cell_type": "markdown",
   "metadata": {},
   "source": [
    "## Feature Colletion "
   ]
  },
  {
   "cell_type": "code",
   "execution_count": null,
   "metadata": {},
   "outputs": [],
   "source": [
    "# Place location and geometry of interest\n",
    "geo_point = ee.Geometry.Point([-41.501150593949305,-12.609558240448216])\n",
    "geo_place = ee.Geometry.Polygon([\n",
    "    [-41.51551178850023,-12.571410698153873],\n",
    "    [-41.51392392076341,-12.575557425201367],\n",
    "    [-41.51349476732103,-12.596499467766318],\n",
    "    [-41.516777307708075,-12.605673846986134],\n",
    "    [-41.513816148955634,-12.613023835365905],\n",
    "    [-41.510018140990546,-12.61471995657374],\n",
    "    [-41.5042460271905,-12.622069685275841],\n",
    "    [-41.49767997952204,-12.633585929553394],\n",
    "    [-41.495040685851386,-12.64577164489336],\n",
    "    [-41.49165037365656,-12.65577940923046],\n",
    "    [-41.48326410447515,-12.654326569148258],\n",
    "    [-41.482418542332205,-12.629461766530518],\n",
    "    [-41.484178071445974,-12.62054181330977],\n",
    "    [-41.486409669346365,-12.610658309543654],\n",
    "    [-41.4919457487531,-12.603664243777065],\n",
    "    [-41.4923984315149,-12.595572883050577],\n",
    "    [-41.48810689709107,-12.581960700605178],\n",
    "    [-41.48832147381226,-12.568473457194342],\n",
    "    [-41.512010743831794,-12.568347796317699],\n",
    "    [-41.51551178850023,-12.571410698153873]\n",
    "])\n",
    "\n",
    "# Pre process urban features\n",
    "df = pd.read_csv('./data/urban_features.csv')\n",
    "raw_urban = df['.geo'].tolist()\n",
    "urban = [get_coordinates(i) for i in raw_urban]\n",
    "\n",
    "urban_features_list = [\n",
    "  ee.Feature(ee.Geometry.Point(urban[i][0], urban[i][1]), {'class': 1 }) for i in range(len(urban))\n",
    "]\n",
    "\n",
    "# Pre process vegetation features\n",
    "df = pd.read_csv('./data/vegetation_feature.csv')\n",
    "raw_vegetation = df['.geo'].tolist()\n",
    "vegetation = [get_coordinates(i) for i in raw_vegetation]\n",
    "\n",
    "vegetation_features_list = [\n",
    "  ee.Feature(ee.Geometry.Point(vegetation[i][0], vegetation[i][1]), {'class': 0 }) for i in range(len(vegetation))\n",
    "]\n",
    "\n",
    "# Feature collections\n",
    "urban_features = ee.FeatureCollection(urban_features_list, 'urban')\n",
    "vegetation_features = ee.FeatureCollection(vegetation_features_list, 'vegetation')\n",
    "\n",
    "feature = urban_features.merge(vegetation_features)\n",
    "\n",
    "# feature.getInfo()"
   ]
  },
  {
   "cell_type": "markdown",
   "metadata": {},
   "source": [
    "# Dataset"
   ]
  },
  {
   "cell_type": "code",
   "execution_count": null,
   "metadata": {},
   "outputs": [],
   "source": [
    "image = (\n",
    "  ee.Image(\n",
    "    ee.ImageCollection(\"COPERNICUS/S2_SR_HARMONIZED\")\n",
    "      .filterBounds(geo_point)\n",
    "      .filterDate('2023-01-01', '2023-12-01')\n",
    "      .sort('CLOUDY_PIXEL_PERCENTAGE')\n",
    "      .first()\n",
    "  )\n",
    ")\n",
    "\n",
    "bands = ['B2', 'B3', 'B4', 'B5', 'B6', 'B7'] \n",
    "\n",
    "label = 'class'\n",
    "\n",
    "feature_collection = image.select(bands).sampleRegions(\n",
    "  collection = feature,\n",
    "  properties = [label],\n",
    "  scale = 10,\n",
    "  geometries = True\n",
    ")\n",
    "# feature_collection.getInfo()"
   ]
  },
  {
   "cell_type": "markdown",
   "metadata": {},
   "source": [
    "## Randon Forest"
   ]
  },
  {
   "cell_type": "code",
   "execution_count": null,
   "metadata": {},
   "outputs": [],
   "source": [
    "dataset = feature_collection.randomColumn()\n",
    "training = dataset.filter('random <= 0.8')\n",
    "validation = dataset.filter('random > 0.8')\n",
    "\n",
    "cls = ee.Classifier.smileRandomForest(10).train(training, label, bands)\n",
    "\n",
    "train_accuracy = cls.confusionMatrix()\n",
    "validation_sample = validation.classify(cls)\n",
    "validation_accuracy = validation_sample.errorMatrix(label, 'classification')\n",
    "\n",
    "# display('Results', cls.explain().getInfo())\n",
    "display('Confusion Matrix', train_accuracy.getInfo())\n",
    "display('Training error matrix', train_accuracy)\n",
    "display('Training overall accuracy', train_accuracy.accuracy())\n",
    "display('Validation error matrix', validation_accuracy)\n",
    "display('Validation accuracy', validation_accuracy.accuracy())\n",
    "\n"
   ]
  },
  {
   "cell_type": "markdown",
   "metadata": {},
   "source": [
    "## Map view"
   ]
  },
  {
   "cell_type": "code",
   "execution_count": 49,
   "metadata": {},
   "outputs": [
    {
     "data": {
      "text/html": [
       "\n",
       "            <style>\n",
       "                .geemap-dark {\n",
       "                    --jp-widgets-color: white;\n",
       "                    --jp-widgets-label-color: white;\n",
       "                    --jp-ui-font-color1: white;\n",
       "                    --jp-layout-color2: #454545;\n",
       "                    background-color: #383838;\n",
       "                }\n",
       "\n",
       "                .geemap-dark .jupyter-button {\n",
       "                    --jp-layout-color3: #383838;\n",
       "                }\n",
       "\n",
       "                .geemap-colab {\n",
       "                    background-color: var(--colab-primary-surface-color, white);\n",
       "                }\n",
       "\n",
       "                .geemap-colab .jupyter-button {\n",
       "                    --jp-layout-color3: var(--colab-primary-surface-color, white);\n",
       "                }\n",
       "            </style>\n",
       "            "
      ],
      "text/plain": [
       "<IPython.core.display.HTML object>"
      ]
     },
     "metadata": {},
     "output_type": "display_data"
    },
    {
     "data": {
      "application/vnd.jupyter.widget-view+json": {
       "model_id": "12fc43cf921a4a0598ae7871fa29d78b",
       "version_major": 2,
       "version_minor": 0
      },
      "text/plain": [
       "Map(center=[-12.609558240448216, -41.501150593949305], controls=(WidgetControl(options=['position', 'transpare…"
      ]
     },
     "execution_count": 49,
     "metadata": {},
     "output_type": "execute_result"
    }
   ],
   "source": [
    "classification = image.clip(geo_place).classify(cls)\n",
    "\n",
    "map = geemap.Map(center=[-12.609558240448216,-41.501150593949305], zoom=15)\n",
    "\n",
    "class_vis = {\n",
    "    'min': 0,\n",
    "    'max': 10,\n",
    "    'palette': [\n",
    "        '006400',\n",
    "        'ffbb22',\n",
    "        'ffff4c',\n",
    "        'f096ff',\n",
    "        'fa0000',\n",
    "        'b4b4b4',\n",
    "        'f0f0f0',\n",
    "        '0064c8',\n",
    "        '0096a0',\n",
    "        '00cf75',\n",
    "        'fae6a0',\n",
    "    ],\n",
    "}\n",
    "\n",
    "\n",
    "# Adjust this value to increase or decrease the contrast\n",
    "vis_params = {\"bands\": ['B2', 'B3', 'B4'],  min: 0, max: 2000, \"gamma\": 3}\n",
    "\n",
    "map.add_layer(image, vis_params, 'Polygon')\n",
    "map.add_layer(classification, class_vis, 'Classification')\n",
    "# Display the map\n",
    "map"
   ]
  }
 ],
 "metadata": {
  "kernelspec": {
   "display_name": "capao-urban-rate-3l7dZDhn-py3.12",
   "language": "python",
   "name": "python3"
  },
  "language_info": {
   "codemirror_mode": {
    "name": "ipython",
    "version": 3
   },
   "file_extension": ".py",
   "mimetype": "text/x-python",
   "name": "python",
   "nbconvert_exporter": "python",
   "pygments_lexer": "ipython3",
   "version": "3.12.2"
  }
 },
 "nbformat": 4,
 "nbformat_minor": 2
}
