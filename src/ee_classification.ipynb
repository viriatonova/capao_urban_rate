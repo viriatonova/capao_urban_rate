{
 "cells": [
  {
   "cell_type": "markdown",
   "metadata": {},
   "source": [
    "# Capao Urban Rate\n",
    "\n",
    "This notebook aims to estimate the current urban growth rate for the place: Vale do Capão, Palmeiras, BA, Brasil. By using Google Earth satellite images and analyzing RGB pixel data, we can determine the growth rate in areas featuring houses, roads, construction sites, or where forests have been cleared for humans uses. For this case study, we have chosen COPERNICUS satellite images."
   ]
  },
  {
   "cell_type": "code",
   "execution_count": null,
   "metadata": {},
   "outputs": [],
   "source": [
    "import ee\n",
    "import geemap as geemap\n",
    "import pandas as pd\n",
    "\n",
    "from utils.utils import mileseconds_to_date\n",
    "from utils.features import get_coordinates\n",
    "from utils.contants import (\n",
    "  PROJECT, \n",
    "  GEO_POINT,\n",
    "  GEO_PLACE,\n",
    "  BANDS_STANDARD,\n",
    "  BANDS_LANDSET_7,\n",
    "  BANDS\n",
    ")\n",
    "\n",
    "ee.Authenticate()\n",
    "ee.Initialize(project=PROJECT)\n",
    "geemap.ee_initialize()"
   ]
  },
  {
   "cell_type": "markdown",
   "metadata": {},
   "source": [
    "# Feature Collection "
   ]
  },
  {
   "cell_type": "code",
   "execution_count": null,
   "metadata": {},
   "outputs": [],
   "source": [
    "# Pre process urban features\n",
    "df = pd.read_csv('./data/urban_features.csv')\n",
    "raw_urban = df['.geo'].tolist()\n",
    "urban = [get_coordinates(i) for i in raw_urban]\n",
    "\n",
    "urban_features_list = [\n",
    "  ee.Feature(ee.Geometry.Point(urban[i][0], urban[i][1]), {'class': 1 }) for i in range(len(urban))\n",
    "]\n",
    "\n",
    "# Pre process vegetation features\n",
    "df = pd.read_csv('./data/vegetation_feature.csv')\n",
    "raw_vegetation = df['.geo'].tolist()\n",
    "vegetation = [get_coordinates(i) for i in raw_vegetation]\n",
    "\n",
    "vegetation_features_list = [\n",
    "  ee.Feature(ee.Geometry.Point(vegetation[i][0], vegetation[i][1]), {'class': 0 }) for i in range(len(vegetation))\n",
    "]\n",
    "\n",
    "# Feature collections\n",
    "urban_features = ee.FeatureCollection(urban_features_list, 'urban')\n",
    "vegetation_features = ee.FeatureCollection(vegetation_features_list, 'vegetation')\n",
    "\n",
    "feature = urban_features.merge(vegetation_features)\n",
    "\n",
    "# feature.getInfo()"
   ]
  },
  {
   "cell_type": "markdown",
   "metadata": {},
   "source": [
    "# Dataset"
   ]
  },
  {
   "cell_type": "code",
   "execution_count": 41,
   "metadata": {},
   "outputs": [
    {
     "data": {
      "text/html": [
       "\n",
       "            <style>\n",
       "                .geemap-dark {\n",
       "                    --jp-widgets-color: white;\n",
       "                    --jp-widgets-label-color: white;\n",
       "                    --jp-ui-font-color1: white;\n",
       "                    --jp-layout-color2: #454545;\n",
       "                    background-color: #383838;\n",
       "                }\n",
       "\n",
       "                .geemap-dark .jupyter-button {\n",
       "                    --jp-layout-color3: #383838;\n",
       "                }\n",
       "\n",
       "                .geemap-colab {\n",
       "                    background-color: var(--colab-primary-surface-color, white);\n",
       "                }\n",
       "\n",
       "                .geemap-colab .jupyter-button {\n",
       "                    --jp-layout-color3: var(--colab-primary-surface-color, white);\n",
       "                }\n",
       "            </style>\n",
       "            "
      ],
      "text/plain": [
       "<IPython.core.display.HTML object>"
      ]
     },
     "metadata": {},
     "output_type": "display_data"
    }
   ],
   "source": [
    "geo_point = ee.Geometry.Point(GEO_POINT)\n",
    "geo_place = ee.Geometry.Polygon(GEO_PLACE)\n",
    "\n",
    "raw_image = (\n",
    "  ee.Image(\n",
    "    ee.ImageCollection(\"LANDSAT/LC09/C02/T1\")\n",
    "      .filterBounds(geo_point)\n",
    "      .filterDate('2023-01-01', '2023-12-01')\n",
    "      .sort('CLOUDY_PIXEL_PERCENTAGE')\n",
    "      .first()\n",
    "  )\n",
    ")\n",
    "\n",
    "image = raw_image.select(BANDS_STANDARD).rename(BANDS)\n",
    "\n",
    "label = 'class'\n",
    "\n",
    "feature_collection = image.select(BANDS).sampleRegions(\n",
    "  collection = feature,\n",
    "  properties = [label],\n",
    "  scale = 10,\n",
    "  geometries = True\n",
    ")\n",
    "\n",
    "# Checking bands names\n",
    "# print(image.bandNames().getInfo())"
   ]
  },
  {
   "cell_type": "markdown",
   "metadata": {},
   "source": [
    "# Randon Forest Model"
   ]
  },
  {
   "cell_type": "code",
   "execution_count": 42,
   "metadata": {},
   "outputs": [
    {
     "data": {
      "text/html": [
       "\n",
       "            <style>\n",
       "                .geemap-dark {\n",
       "                    --jp-widgets-color: white;\n",
       "                    --jp-widgets-label-color: white;\n",
       "                    --jp-ui-font-color1: white;\n",
       "                    --jp-layout-color2: #454545;\n",
       "                    background-color: #383838;\n",
       "                }\n",
       "\n",
       "                .geemap-dark .jupyter-button {\n",
       "                    --jp-layout-color3: #383838;\n",
       "                }\n",
       "\n",
       "                .geemap-colab {\n",
       "                    background-color: var(--colab-primary-surface-color, white);\n",
       "                }\n",
       "\n",
       "                .geemap-colab .jupyter-button {\n",
       "                    --jp-layout-color3: var(--colab-primary-surface-color, white);\n",
       "                }\n",
       "            </style>\n",
       "            "
      ],
      "text/plain": [
       "<IPython.core.display.HTML object>"
      ]
     },
     "metadata": {},
     "output_type": "display_data"
    }
   ],
   "source": [
    "dataset = feature_collection.randomColumn()\n",
    "training = dataset.filter('random <= 0.8')\n",
    "validation = dataset.filter('random > 0.8')\n",
    "\n",
    "cls = ee.Classifier.smileRandomForest(10).train(training, label, BANDS)\n",
    "\n",
    "# store the classifier \n",
    "# %store cls\n",
    "\n",
    "train_accuracy_standard = cls.confusionMatrix()\n",
    "validation_sample_standard = validation.classify(cls)\n",
    "validation_accuracy_standard = validation_sample_standard.errorMatrix(label, 'classification')\n",
    "\n",
    "# display('Results', cls.explain().getInfo())\n",
    "# display('Confusion Matrix', train_accuracy.getInfo())\n",
    "# display('Training error matrix', train_accuracy)\n",
    "# display('Training overall accuracy', train_accuracy.accuracy())\n",
    "# display('Validation error matrix', validation_accuracy)\n",
    "# display('Validation accuracy', validation_accuracy.accuracy())\n",
    "\n"
   ]
  },
  {
   "cell_type": "markdown",
   "metadata": {},
   "source": [
    "# Image Series\n",
    "Using Google Earch Image Collection to extract timeseries images to representate the current urban progression \n",
    "\n",
    "- USGS Landsat 7 Collection 2 Tier 1 Raw Scenes. Image collection started from 1997\n",
    "- USGS Landsat 8 Collection 2 Tier 1 Raw Scenes. Image collection started from 2013\n",
    "- USGS Landsat 9 Collection 2 Tier 1 Raw Scenes. Image collection started from 2021\n",
    "\n",
    "Images from 1997 and 1998 aren't available in the dataset"
   ]
  },
  {
   "cell_type": "code",
   "execution_count": 60,
   "metadata": {},
   "outputs": [
    {
     "data": {
      "text/html": [
       "\n",
       "            <style>\n",
       "                .geemap-dark {\n",
       "                    --jp-widgets-color: white;\n",
       "                    --jp-widgets-label-color: white;\n",
       "                    --jp-ui-font-color1: white;\n",
       "                    --jp-layout-color2: #454545;\n",
       "                    background-color: #383838;\n",
       "                }\n",
       "\n",
       "                .geemap-dark .jupyter-button {\n",
       "                    --jp-layout-color3: #383838;\n",
       "                }\n",
       "\n",
       "                .geemap-colab {\n",
       "                    background-color: var(--colab-primary-surface-color, white);\n",
       "                }\n",
       "\n",
       "                .geemap-colab .jupyter-button {\n",
       "                    --jp-layout-color3: var(--colab-primary-surface-color, white);\n",
       "                }\n",
       "            </style>\n",
       "            "
      ],
      "text/plain": [
       "<IPython.core.display.HTML object>"
      ]
     },
     "metadata": {},
     "output_type": "display_data"
    }
   ],
   "source": [
    "\n",
    "image_series = {}\n",
    "satelite = 'LANDSAT/LC09/C02/T1' \n",
    "\n",
    "for year in range(1999, 2024):\n",
    "    current_bands = BANDS_LANDSET_7 if year < 2013 else BANDS_STANDARD\n",
    "    if year < 2013:\n",
    "        satelite = 'LANDSAT/LE07/C02/T1'\n",
    "    elif 2012 < year < 2021:\n",
    "        satelite = 'LANDSAT/LC08/C02/T1'\n",
    "\n",
    "    image_collection = (ee.ImageCollection(satelite)\n",
    "        .filterBounds(geo_point)\n",
    "        .filterDate(f'{year}-01-01', f'{year}-12-30')\n",
    "        .sort('CLOUD_COVER')\n",
    "        .first()\n",
    "    )\n",
    "\n",
    "    raw_image = ee.Image(image_collection)\n",
    "\n",
    "    # Changing the band names\n",
    "    image = raw_image.select(current_bands).rename(BANDS)\n",
    "\n",
    "    # Getting image date\n",
    "    # image_raw_date = image.date().getInfo().get('value')\n",
    "    # image_date = mileseconds_to_date(image_raw_date)\n",
    "\n",
    "    # Store and Classify image\n",
    "    image_series[year] = {\n",
    "        'image': image, \n",
    "        # 'date': image_date,\n",
    "        'landcover_classified': image.clip(geo_place).select(BANDS).classify(cls)\n",
    "    }\n",
    "\n",
    "# landcover = image_1997_1.clip(geo_place)\n",
    "# current_map = geemap.Map(center=[-12.609558240448216,-41.501150593949305], zoom=15)\n",
    "# current_map.addLayer(image_series[1999]['image'], {'bands': ['B1', 'B2', 'B3'], 'min': 0, 'max': 2000, \"gamma\": 3}, '1997')\n",
    "# current_map"
   ]
  },
  {
   "cell_type": "markdown",
   "metadata": {},
   "source": [
    "# Urban rate "
   ]
  },
  {
   "cell_type": "code",
   "execution_count": null,
   "metadata": {},
   "outputs": [],
   "source": [
    "#TODO: Create a datase with the urban area amount per year\n",
    "#TODO: Create a Regression model to predict the urban area amount for next 10 years using the model. "
   ]
  },
  {
   "cell_type": "markdown",
   "metadata": {},
   "source": [
    "# Map view"
   ]
  },
  {
   "cell_type": "code",
   "execution_count": 61,
   "metadata": {},
   "outputs": [
    {
     "data": {
      "text/html": [
       "\n",
       "            <style>\n",
       "                .geemap-dark {\n",
       "                    --jp-widgets-color: white;\n",
       "                    --jp-widgets-label-color: white;\n",
       "                    --jp-ui-font-color1: white;\n",
       "                    --jp-layout-color2: #454545;\n",
       "                    background-color: #383838;\n",
       "                }\n",
       "\n",
       "                .geemap-dark .jupyter-button {\n",
       "                    --jp-layout-color3: #383838;\n",
       "                }\n",
       "\n",
       "                .geemap-colab {\n",
       "                    background-color: var(--colab-primary-surface-color, white);\n",
       "                }\n",
       "\n",
       "                .geemap-colab .jupyter-button {\n",
       "                    --jp-layout-color3: var(--colab-primary-surface-color, white);\n",
       "                }\n",
       "            </style>\n",
       "            "
      ],
      "text/plain": [
       "<IPython.core.display.HTML object>"
      ]
     },
     "metadata": {},
     "output_type": "display_data"
    },
    {
     "data": {
      "application/vnd.jupyter.widget-view+json": {
       "model_id": "80d05f97bea945adaa237cdf6033e0c9",
       "version_major": 2,
       "version_minor": 0
      },
      "text/plain": [
       "Map(center=[-12.609558240448216, -41.501150593949305], controls=(WidgetControl(options=['position', 'transpare…"
      ]
     },
     "execution_count": 61,
     "metadata": {},
     "output_type": "execute_result"
    }
   ],
   "source": [
    "# capao_landcover = image_series[2000]['landcover_classified'].clip(geo_place)\n",
    "\n",
    "# landcover_area = ee.Image.pixelArea().addBands(capao_landcover)\n",
    "\n",
    "# feature_areas = landcover_area.reduceRegions(\n",
    "#   reducer = ee.Reducer.sum().group({\n",
    "#     \"groupField\": 1,\n",
    "#     \"groupName\": \"class\"\n",
    "#   }),\n",
    "#   geometry=feature,\n",
    "#   scale=10,\n",
    "#   maxPixel=1e90\n",
    "# )\n",
    "\n",
    "map = geemap.Map(center=[-12.609558240448216,-41.501150593949305], zoom=13)\n",
    "\n",
    "vis_params = {\n",
    "  \"bands\": [\"Blues\", \"Green\", \"Red\"],  \n",
    "  min: 0, \n",
    "  max: 2000, \n",
    "  \"gamma\": 3\n",
    "}\n",
    "\n",
    "class_vis = {\n",
    "    'min': 0,\n",
    "    'max': 10,\n",
    "    'palette': [\n",
    "        'green',\n",
    "        'ffbb22',\n",
    "        'ffff4c',\n",
    "        'f096ff',\n",
    "        'fa0000',\n",
    "        'b4b4b4',\n",
    "        'f0f0f0',\n",
    "        '0064c8',\n",
    "        '0096a0',\n",
    "        '00cf75',\n",
    "        'fae6a0',\n",
    "    ],\n",
    "}\n",
    "\n",
    "year = 2023\n",
    "\n",
    "# map.add_layer(image, vis_params, 'Polygon')\n",
    "map.add_layer(image_series[year]['image'], vis_params, 'view')\n",
    "map.add_layer(image_series[year]['landcover_classified'], class_vis, 'classified', opacity=0.15)\n",
    "\n",
    "# Display the map\n",
    "map\n"
   ]
  }
 ],
 "metadata": {
  "kernelspec": {
   "display_name": "capao-urban-rate-3l7dZDhn-py3.12",
   "language": "python",
   "name": "python3"
  },
  "language_info": {
   "codemirror_mode": {
    "name": "ipython",
    "version": 3
   },
   "file_extension": ".py",
   "mimetype": "text/x-python",
   "name": "python",
   "nbconvert_exporter": "python",
   "pygments_lexer": "ipython3",
   "version": "3.12.2"
  }
 },
 "nbformat": 4,
 "nbformat_minor": 2
}
